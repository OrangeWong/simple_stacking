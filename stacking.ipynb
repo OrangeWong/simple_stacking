{
 "cells": [
  {
   "cell_type": "code",
   "execution_count": 1,
   "metadata": {
    "collapsed": true
   },
   "outputs": [],
   "source": [
    "from sklearn.discriminant_analysis import LinearDiscriminantAnalysis, QuadraticDiscriminantAnalysis\n",
    "from sklearn.svm import SVC\n",
    "from sklearn.ensemble import RandomForestClassifier, VotingClassifier\n",
    "from sklearn.preprocessing import LabelEncoder\n",
    "from sklearn.model_selection import cross_val_score, StratifiedShuffleSplit\n",
    "from sklearn.metrics import make_scorer, matthews_corrcoef, confusion_matrix\n",
    "from sklearn.linear_model import LogisticRegression\n",
    "from sklearn.naive_bayes import GaussianNB\n",
    "from sklearn.neural_network import MLPClassifier\n",
    "from mlxtend.classifier import StackingClassifier\n",
    "from sklearn.model_selection import GridSearchCV\n",
    "from sklearn import datasets\n",
    "\n",
    "import pandas as pd\n",
    "import numpy as np\n",
    "\n",
    "np.random.seed(seed=2017)"
   ]
  },
  {
   "cell_type": "markdown",
   "metadata": {},
   "source": [
    "# Load the iris data "
   ]
  },
  {
   "cell_type": "code",
   "execution_count": 7,
   "metadata": {},
   "outputs": [],
   "source": [
    "iris = datasets.load_iris()\n",
    "X = iris.data\n",
    "y = iris.target"
   ]
  },
  {
   "cell_type": "code",
   "execution_count": 13,
   "metadata": {},
   "outputs": [
    {
     "name": "stdout",
     "output_type": "stream",
     "text": [
      "the max missing rate among the columns is: 0.0\n"
     ]
    }
   ],
   "source": [
    "missing_rate = sorted(np.sum(np.isnan(X), axis =1)/X.shape[0])\n",
    "print('the max missing rate among the columns is:', max(missing_rate))"
   ]
  },
  {
   "cell_type": "markdown",
   "metadata": {},
   "source": [
    "# Data splitting"
   ]
  },
  {
   "cell_type": "code",
   "execution_count": 16,
   "metadata": {},
   "outputs": [
    {
     "name": "stdout",
     "output_type": "stream",
     "text": [
      "Counter({2: 0.3392857142857143, 1: 0.33035714285714285, 0: 0.33035714285714285})\n",
      "Counter({0: 0.34210526315789475, 1: 0.34210526315789475, 2: 0.3157894736842105})\n"
     ]
    }
   ],
   "source": [
    "# Apply stratifiedShuffleSplit to conserve the imbalanced set\n",
    "sss = StratifiedShuffleSplit(n_splits=1, test_size=0.25, random_state=0)\n",
    "\n",
    "# get the index\n",
    "train_index, test_index  = next(iter(sss.split(X,y)))\n",
    "\n",
    "# split the data\n",
    "X_train = X[train_index, :]\n",
    "y_train = y[train_index]\n",
    "X_test = X[test_index, :]\n",
    "y_test = y[test_index]\n",
    "\n",
    "# Show the results of the split\n",
    "from collections import Counter\n",
    "distribution_test = Counter(y_test)\n",
    "distribution_train = Counter(y_train)\n",
    "\n",
    "for distribution, length in zip([distribution_train, distribution_test], [len(y_train), len(y_test)]):\n",
    "    for key, value in distribution.items():\n",
    "        distribution[key] = value/length\n",
    "\n",
    "print(distribution_train)\n",
    "print(distribution_test)"
   ]
  },
  {
   "cell_type": "markdown",
   "metadata": {},
   "source": [
    "# Stacking\n",
    "\n",
    "The basic classifiers considered for stacking are:  Linear Discriminant Analysis, Quadratic Discriminant Analysis, Logistic Regression, SVM,    Random Forest, Gaussian NB, and MLP."
   ]
  },
  {
   "cell_type": "code",
   "execution_count": 34,
   "metadata": {
    "scrolled": false
   },
   "outputs": [
    {
     "name": "stdout",
     "output_type": "stream",
     "text": [
      "Matthews_corrcoef: 0.93 (+/- 0.06) [LDA]\n",
      "Matthews_corrcoef: 0.96 (+/- 0.06) [QDA]\n",
      "Matthews_corrcoef: 0.93 (+/- 0.08) [LR]\n",
      "Matthews_corrcoef: 0.91 (+/- 0.10) [SVC]\n",
      "Matthews_corrcoef: 0.93 (+/- 0.06) [RF]\n",
      "Matthews_corrcoef: 0.93 (+/- 0.06) [GNB]\n"
     ]
    },
    {
     "name": "stderr",
     "output_type": "stream",
     "text": [
      "C:\\Users\\richa\\Anaconda3\\lib\\site-packages\\sklearn\\metrics\\classification.py:538: RuntimeWarning: invalid value encountered in double_scalars\n",
      "  mcc = cov_ytyp / np.sqrt(cov_ytyt * cov_ypyp)\n",
      "C:\\Users\\richa\\Anaconda3\\lib\\site-packages\\sklearn\\metrics\\classification.py:538: RuntimeWarning: invalid value encountered in double_scalars\n",
      "  mcc = cov_ytyp / np.sqrt(cov_ytyt * cov_ypyp)\n"
     ]
    },
    {
     "name": "stdout",
     "output_type": "stream",
     "text": [
      "Matthews_corrcoef: 0.75 (+/- 0.38) [MLP]\n",
      "Matthews_corrcoef: 0.93 (+/- 0.06) [Ensemble]\n",
      "Matthews_corrcoef: 0.94 (+/- 0.06) [Stacking]\n"
     ]
    }
   ],
   "source": [
    "# a list of classifiers\n",
    "clfs = [LinearDiscriminantAnalysis(solver='lsqr', shrinkage='auto'), \n",
    "        QuadraticDiscriminantAnalysis(),\n",
    "        LogisticRegression(), \n",
    "        SVC(probability = True), \n",
    "        RandomForestClassifier(bootstrap=True), \n",
    "        GaussianNB(), \n",
    "        MLPClassifier(solver='lbfgs', \n",
    "                      alpha=1e-5, \n",
    "                      hidden_layer_sizes=(16, len(np.unique(y_train))), activation = 'relu')]\n",
    "\n",
    "# a list of the name of classifiers\n",
    "labels = ['LDA', 'QDA', 'LR', 'SVC', 'RF', 'GNB', 'MLP']\n",
    "\n",
    "# a simple logistic regression for meta-classifer\n",
    "lr = LogisticRegression()\n",
    "\n",
    "# ensemble classifier\n",
    "eclf = VotingClassifier(estimators=list(zip(labels, clfs)), \n",
    "                        voting='soft', \n",
    "                        weights=None)\n",
    "\n",
    "# stacking classifier\n",
    "sclf = StackingClassifier(classifiers=clfs,\n",
    "                          use_probas=True,\n",
    "                          average_probas=False,\n",
    "                          meta_classifier=lr)\n",
    "\n",
    "# using matthews_corrcoef for prediction score\n",
    "scorer = make_scorer(matthews_corrcoef)\n",
    "\n",
    "# run a CV with 10-fold\n",
    "for clf, label in zip(clfs+ [eclf, sclf], labels + ['Ensemble', 'Stacking']):\n",
    "    scores = cross_val_score(clf, X_train, y_train, cv=10, scoring=scorer)\n",
    "    print(\"Matthews_corrcoef: %0.2f (+/- %0.2f) [%s]\" % (scores.mean(), scores.std(), label))\n"
   ]
  },
  {
   "cell_type": "markdown",
   "metadata": {},
   "source": [
    "# Parameter tuning\n",
    "\n",
    "Here, we tune the parameters for the ensemble classifier using GridSearchCV. "
   ]
  },
  {
   "cell_type": "code",
   "execution_count": 37,
   "metadata": {
    "scrolled": false
   },
   "outputs": [
    {
     "name": "stdout",
     "output_type": "stream",
     "text": [
      "0.926 +/- 0.03 {'LR__C': 0.2, 'RF__n_estimators': 10, 'SVC__C': 0.2}\n",
      "0.926 +/- 0.03 {'LR__C': 0.2, 'RF__n_estimators': 10, 'SVC__C': 1}\n",
      "0.926 +/- 0.03 {'LR__C': 0.2, 'RF__n_estimators': 10, 'SVC__C': 5}\n",
      "0.926 +/- 0.03 {'LR__C': 0.2, 'RF__n_estimators': 100, 'SVC__C': 0.2}\n",
      "0.926 +/- 0.03 {'LR__C': 0.2, 'RF__n_estimators': 100, 'SVC__C': 1}\n",
      "0.926 +/- 0.03 {'LR__C': 0.2, 'RF__n_estimators': 100, 'SVC__C': 5}\n",
      "0.926 +/- 0.03 {'LR__C': 1, 'RF__n_estimators': 10, 'SVC__C': 0.2}\n",
      "0.926 +/- 0.03 {'LR__C': 1, 'RF__n_estimators': 10, 'SVC__C': 1}\n",
      "0.926 +/- 0.03 {'LR__C': 1, 'RF__n_estimators': 10, 'SVC__C': 5}\n",
      "0.926 +/- 0.03 {'LR__C': 1, 'RF__n_estimators': 100, 'SVC__C': 0.2}\n",
      "0.926 +/- 0.03 {'LR__C': 1, 'RF__n_estimators': 100, 'SVC__C': 1}\n",
      "0.926 +/- 0.03 {'LR__C': 1, 'RF__n_estimators': 100, 'SVC__C': 5}\n",
      "0.926 +/- 0.03 {'LR__C': 5, 'RF__n_estimators': 10, 'SVC__C': 0.2}\n",
      "0.926 +/- 0.03 {'LR__C': 5, 'RF__n_estimators': 10, 'SVC__C': 1}\n",
      "0.926 +/- 0.03 {'LR__C': 5, 'RF__n_estimators': 10, 'SVC__C': 5}\n",
      "0.926 +/- 0.03 {'LR__C': 5, 'RF__n_estimators': 100, 'SVC__C': 0.2}\n",
      "0.926 +/- 0.03 {'LR__C': 5, 'RF__n_estimators': 100, 'SVC__C': 1}\n",
      "0.926 +/- 0.03 {'LR__C': 5, 'RF__n_estimators': 100, 'SVC__C': 5}\n",
      "Best parameters: {'LR__C': 0.2, 'RF__n_estimators': 10, 'SVC__C': 0.2}\n",
      "Best gridsearch cv Matthews_corrcoef: 0.93\n",
      "confusion matrix:\n",
      " [[13  0  0]\n",
      " [ 0 13  0]\n",
      " [ 0  0 12]] \n",
      " matthews_corrcoef: 1.0\n"
     ]
    }
   ],
   "source": [
    "# remove the MLP\n",
    "eclf.set_params(MLP=None)\n",
    "\n",
    "# the parameter space\n",
    "params = {'LR__C': [0.2, 1, 5],\n",
    "          'RF__n_estimators': [10, 100],\n",
    "          'SVC__C': [0.2, 1, 5]}\n",
    "\n",
    "# run a grid search on the eclf\n",
    "grid = GridSearchCV(estimator=eclf, \n",
    "                    param_grid=params, \n",
    "                    cv=10,\n",
    "                    scoring = scorer)\n",
    "\n",
    "# using the training data\n",
    "grid.fit(X_train, y_train)\n",
    "\n",
    "# information of interest\n",
    "cv_keys = ('mean_test_score', 'std_test_score', 'params')\n",
    "\n",
    "for i, _ in enumerate(grid.cv_results_['mean_test_score']):\n",
    "    print(\"%0.3f +/- %0.2f %r\"\n",
    "          % (grid.cv_results_[cv_keys[0]][i],\n",
    "             grid.cv_results_[cv_keys[1]][i] / 2.0,\n",
    "             grid.cv_results_[cv_keys[2]][i]))\n",
    "\n",
    "print('Best parameters: %s' % grid.best_params_)\n",
    "print('Best gridsearch cv Matthews_corrcoef: %.2f' % grid.best_score_)\n",
    "\n",
    "# set the parameters\n",
    "eclf.set_params(**grid.best_params_)\n",
    "\n",
    "# fit and generate confusion matrix\n",
    "eclf.fit(X_train, y_train)\n",
    "eclf_predict = eclf.predict(X_test)\n",
    "eclf_cm = confusion_matrix(y_test, eclf_predict)\n",
    "eclf_mc = matthews_corrcoef(y_test, eclf_predict)\n",
    "\n",
    "print('confusion matrix:\\n', eclf_cm, '\\n', 'matthews_corrcoef:', eclf_mc)"
   ]
  }
 ],
 "metadata": {
  "kernelspec": {
   "display_name": "Python 3",
   "language": "python",
   "name": "python3"
  },
  "language_info": {
   "codemirror_mode": {
    "name": "ipython",
    "version": 3
   },
   "file_extension": ".py",
   "mimetype": "text/x-python",
   "name": "python",
   "nbconvert_exporter": "python",
   "pygments_lexer": "ipython3",
   "version": "3.6.1"
  }
 },
 "nbformat": 4,
 "nbformat_minor": 2
}
